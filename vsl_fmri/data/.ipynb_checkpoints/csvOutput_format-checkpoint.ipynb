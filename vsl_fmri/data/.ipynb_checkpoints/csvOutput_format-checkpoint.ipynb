{
 "cells": [
  {
   "cell_type": "code",
   "execution_count": 162,
   "metadata": {
    "collapsed": false
   },
   "outputs": [],
   "source": [
    "import os\n",
    "import pandas as pd\n",
    "from scipy import stats\n",
    "\n",
    "csvFile = '04_visual_StatLearn_2016_Apr_13_1712.csv'\n",
    "csvDF = pd.read_csv(csvFile)\n",
    "# structrued sequences accuracy\n",
    "forcedChoice1 = csvDF[['correct','forced_1_key_resp.keys']]\n",
    "forcedChoice1 = forcedChoice1.dropna()\n",
    "forcedChoice1['forced_1_key_resp.keys'] = pd.to_numeric(forcedChoice1['forced_1_key_resp.keys'])\n",
    "# random sequences accuracy\n",
    "forcedChoice2 = csvDF[['correct','key_resp_6.keys']]\n",
    "forcedChoice2 = forcedChoice2.dropna()\n",
    "forcedChoice2['key_resp_6.keys'] = pd.to_numeric(forcedChoice2['key_resp_6.keys'])\n",
    "# structured block response times\n",
    "structBlock = csvDF[['image','block_1_seq_key_resp.rt']]\n",
    "structBlock = structBlock.dropna()\n",
    "# random block response times\n",
    "randBlock = csvDF[['image','block2_seq_key_resp.rt']]\n",
    "randBlock = randBlock.dropna()\n",
    "usefull_output = pd.concat([forcedChoice1,forcedChoice2,structBlock,randBlock])\n"
   ]
  },
  {
   "cell_type": "code",
   "execution_count": 136,
   "metadata": {
    "collapsed": false,
    "scrolled": true
   },
   "outputs": [
    {
     "data": {
      "text/plain": [
       "Ttest_indResult(statistic=-7.8893126772446909, pvalue=3.7280814620144157e-10)"
      ]
     },
     "execution_count": 136,
     "metadata": {},
     "output_type": "execute_result"
    }
   ],
   "source": [
    "stats.ttest_ind(structBlock['block_1_seq_key_resp.rt'],randBlock['block2_seq_key_resp.rt'])"
   ]
  },
  {
   "cell_type": "code",
   "execution_count": 164,
   "metadata": {
    "collapsed": false,
    "scrolled": true
   },
   "outputs": [
    {
     "data": {
      "text/plain": [
       "19     0.218476\n",
       "37     0.385738\n",
       "49     0.585416\n",
       "79     0.268507\n",
       "91     0.135454\n",
       "127    0.102161\n",
       "163    0.219207\n",
       "193    0.202350\n",
       "205    0.319110\n",
       "223    0.252510\n",
       "241    0.218512\n",
       "271    0.119032\n",
       "295    0.285856\n",
       "313    0.285525\n",
       "355    0.169130\n",
       "379    0.235575\n",
       "403    0.235308\n",
       "439    0.202297\n",
       "463    0.169158\n",
       "487    0.017347\n",
       "529    0.135781\n",
       "547    0.202507\n",
       "559    0.185761\n",
       "571    0.152357\n",
       "Name: block_1_seq_key_resp.rt, dtype: float64"
      ]
     },
     "execution_count": 164,
     "metadata": {},
     "output_type": "execute_result"
    }
   ],
   "source": [
    "structBlock['block_1_seq_key_resp.rt']"
   ]
  },
  {
   "cell_type": "code",
   "execution_count": 159,
   "metadata": {
    "collapsed": false
   },
   "outputs": [],
   "source": [
    "forcedChoice1['forced_1_key_resp.keys'] = pd.to_numeric(forcedChoice1['forced_1_key_resp.keys'])"
   ]
  },
  {
   "cell_type": "code",
   "execution_count": 161,
   "metadata": {
    "collapsed": false
   },
   "outputs": [
    {
     "data": {
      "text/plain": [
       "602     0\n",
       "614     0\n",
       "626     0\n",
       "638     0\n",
       "650     0\n",
       "662     0\n",
       "674     0\n",
       "686     0\n",
       "698     0\n",
       "710     0\n",
       "722     0\n",
       "734     0\n",
       "746     0\n",
       "758     0\n",
       "770     0\n",
       "782     0\n",
       "794     0\n",
       "806     0\n",
       "818     0\n",
       "830     0\n",
       "842     0\n",
       "854     0\n",
       "866     0\n",
       "878     0\n",
       "890     0\n",
       "902     0\n",
       "914     0\n",
       "926     0\n",
       "938     0\n",
       "950     0\n",
       "       ..\n",
       "1010    0\n",
       "1022    0\n",
       "1034    0\n",
       "1046    0\n",
       "1058    0\n",
       "1070    0\n",
       "1082    0\n",
       "1094    0\n",
       "1106    0\n",
       "1118    0\n",
       "1130    0\n",
       "1142    0\n",
       "1154    0\n",
       "1166    0\n",
       "1178    0\n",
       "1190    0\n",
       "1202    0\n",
       "1214    0\n",
       "1226    0\n",
       "1238    0\n",
       "1250    0\n",
       "1262    0\n",
       "1274    0\n",
       "1286    0\n",
       "1298    0\n",
       "1310    0\n",
       "1322    0\n",
       "1334    0\n",
       "1346    0\n",
       "1358    0\n",
       "dtype: float64"
      ]
     },
     "execution_count": 161,
     "metadata": {},
     "output_type": "execute_result"
    }
   ],
   "source": [
    "forcedChoice1['correct'] - forcedChoice1['forced_1_key_resp.keys']"
   ]
  },
  {
   "cell_type": "code",
   "execution_count": null,
   "metadata": {
    "collapsed": true
   },
   "outputs": [],
   "source": []
  }
 ],
 "metadata": {
  "kernelspec": {
   "display_name": "Python 2",
   "language": "python",
   "name": "python2"
  },
  "language_info": {
   "codemirror_mode": {
    "name": "ipython",
    "version": 2
   },
   "file_extension": ".py",
   "mimetype": "text/x-python",
   "name": "python",
   "nbconvert_exporter": "python",
   "pygments_lexer": "ipython2",
   "version": "2.7.10"
  }
 },
 "nbformat": 4,
 "nbformat_minor": 0
}
